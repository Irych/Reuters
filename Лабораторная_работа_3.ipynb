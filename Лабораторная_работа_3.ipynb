{
 "cells": [
  {
   "cell_type": "markdown",
   "metadata": {},
   "source": [
    "<b>Лабораторная работа №3</b><br>\n",
    "<b>Выполнила:</b> Жихаревич Ирина<br>\n",
    "<b>Грппа:</b> К3443<br>\n",
    "<b>Проверил:</b> Хлопотов М.В.<br>\n",
    "<b>«Агрегация новостных потоков с помощью машинного обучения»</b><br>\n",
    "Основная задача: В рамках дипломной работы будет реализован классификатор новостных статей.\n",
    "На данный момент подготовка реального датасета еще в процессе, поэтому алгоритм выполнен на известном датасете новостей Reuters.<br>\n",
    "Существует 46 разных тем, для каждой из которых имеется не менее 10 примеров в обучающем наборе."
   ]
  },
  {
   "cell_type": "markdown",
   "metadata": {},
   "source": [
    "Загрузка данных Reuters"
   ]
  },
  {
   "cell_type": "code",
   "execution_count": 3,
   "metadata": {},
   "outputs": [
    {
     "name": "stdout",
     "output_type": "stream",
     "text": [
      "Downloading data from https://s3.amazonaws.com/text-datasets/reuters.npz\n",
      "2113536/2110848 [==============================] - 2s 1us/step\n"
     ]
    }
   ],
   "source": [
    "from keras.datasets import reuters\n",
    "\n",
    "(train_data, train_labels), (test_data, test_labels) = reuters.load_data(num_words=10000)"
   ]
  },
  {
   "cell_type": "markdown",
   "metadata": {},
   "source": [
    "Всего 8982 обучающих и 2246 тестовых примеров."
   ]
  },
  {
   "cell_type": "code",
   "execution_count": 5,
   "metadata": {},
   "outputs": [
    {
     "name": "stdout",
     "output_type": "stream",
     "text": [
      "Training examples:  8982\n",
      "Test examples:  2246\n"
     ]
    }
   ],
   "source": [
    "print(\"Training examples: \", len(train_data))\n",
    "print(\"Test examples: \", len(test_data))"
   ]
  },
  {
   "cell_type": "markdown",
   "metadata": {},
   "source": [
    "Каждый пример - список целых чисел (индексов слов)."
   ]
  },
  {
   "cell_type": "code",
   "execution_count": 7,
   "metadata": {},
   "outputs": [
    {
     "name": "stdout",
     "output_type": "stream",
     "text": [
      "Word indeces:  [1, 361, 372, 8, 77, 62, 325, 4105, 336, 5, 1605, 37, 412, 453, 1187, 229, 334, 13, 4, 867, 76, 4, 76, 1726, 6, 264, 2337, 18, 82, 95, 97, 2220, 4, 1004, 649, 18, 82, 554, 136, 4, 143, 334, 290, 126, 5, 4, 2820, 777, 2, 1386, 13, 954, 7, 4, 314, 912, 224, 4, 2370, 1128, 54, 429, 2, 18, 82, 5, 496, 1187, 229, 57, 85, 385, 593, 6, 4, 867, 76, 17, 12]\n"
     ]
    }
   ],
   "source": [
    "print(\"Word indeces: \", test_data[10])"
   ]
  },
  {
   "cell_type": "markdown",
   "metadata": {},
   "source": [
    "Декодирование новостей обратно в текст."
   ]
  },
  {
   "cell_type": "code",
   "execution_count": 8,
   "metadata": {},
   "outputs": [
    {
     "name": "stdout",
     "output_type": "stream",
     "text": [
      "Downloading data from https://s3.amazonaws.com/text-datasets/reuters_word_index.json\n",
      "557056/550378 [==============================] - 1s 1us/step\n"
     ]
    }
   ],
   "source": [
    "word_index = reuters.get_word_index()\n",
    "reverse_word_index = dict([(value, key) for (key, value) in word_index.items()])\n",
    "decoded_newswire = ' '.join([reverse_word_index.get(i - 3, '?') for i in\n",
    "    train_data[0]])\n"
   ]
  },
  {
   "cell_type": "code",
   "execution_count": 9,
   "metadata": {},
   "outputs": [
    {
     "data": {
      "text/plain": [
       "3"
      ]
     },
     "execution_count": 9,
     "metadata": {},
     "output_type": "execute_result"
    }
   ],
   "source": [
    "train_labels[10]"
   ]
  },
  {
   "cell_type": "markdown",
   "metadata": {},
   "source": [
    "<b>Подготовка данных</b>"
   ]
  },
  {
   "cell_type": "markdown",
   "metadata": {},
   "source": [
    "Кодирование данных. Представление данных в виде векторов."
   ]
  },
  {
   "cell_type": "code",
   "execution_count": 10,
   "metadata": {},
   "outputs": [],
   "source": [
    "import numpy as np\n",
    "\n",
    "def vectorize_sequences(sequences, dimension=10000):\n",
    "    results = np.zeros((len(sequences), dimension))\n",
    "    for i, sequence in enumerate(sequences):\n",
    "        results[i, sequence] = 1.\n",
    "    return results\n",
    "\n",
    "x_train = vectorize_sequences(train_data)\n",
    "x_test = vectorize_sequences(test_data)\n"
   ]
  },
  {
   "cell_type": "code",
   "execution_count": 12,
   "metadata": {},
   "outputs": [],
   "source": [
    "from keras.utils.np_utils import to_categorical\n",
    "\n",
    "one_hot_train_labels = to_categorical(train_labels)\n",
    "one_hot_test_labels = to_categorical(test_labels)"
   ]
  },
  {
   "cell_type": "markdown",
   "metadata": {},
   "source": [
    "<b>Конструирование нейронной сети</b>"
   ]
  },
  {
   "cell_type": "markdown",
   "metadata": {},
   "source": [
    "Определение модели"
   ]
  },
  {
   "cell_type": "code",
   "execution_count": 13,
   "metadata": {},
   "outputs": [],
   "source": [
    "from keras import models\n",
    "from keras import layers\n",
    "\n",
    "model = models.Sequential()\n",
    "model.add(layers.Dense(64, activation='relu', input_shape=(10000,)))\n",
    "model.add(layers.Dense(64, activation='relu'))\n",
    "model.add(layers.Dense(46, activation='softmax'))"
   ]
  },
  {
   "cell_type": "markdown",
   "metadata": {},
   "source": [
    "Последний слой используем функцию активации softmax. Это означает, что сеть будет выводить распределение вероятностей по 46 разным классам с вероятностью принадлежности образца к каждому классу."
   ]
  },
  {
   "cell_type": "markdown",
   "metadata": {},
   "source": [
    "Компиляция модели"
   ]
  },
  {
   "cell_type": "code",
   "execution_count": 14,
   "metadata": {},
   "outputs": [],
   "source": [
    "model.compile(optimizer='rmsprop',\n",
    "              loss='categorical_crossentropy',\n",
    "              metrics=['accuracy'])"
   ]
  },
  {
   "cell_type": "markdown",
   "metadata": {},
   "source": [
    "<b>Проверка решения</b>"
   ]
  },
  {
   "cell_type": "markdown",
   "metadata": {},
   "source": [
    "Создание проверочного набора"
   ]
  },
  {
   "cell_type": "code",
   "execution_count": 15,
   "metadata": {},
   "outputs": [],
   "source": [
    "x_val = x_train[:1000]\n",
    "partial_x_train = x_train[1000:]\n",
    "\n",
    "y_val = one_hot_train_labels[:1000]\n",
    "partial_y_train = one_hot_train_labels[1000:]"
   ]
  },
  {
   "cell_type": "markdown",
   "metadata": {},
   "source": [
    "Обучение модели"
   ]
  },
  {
   "cell_type": "code",
   "execution_count": 16,
   "metadata": {},
   "outputs": [
    {
     "name": "stdout",
     "output_type": "stream",
     "text": [
      "WARNING:tensorflow:From /usr/local/lib/python3.6/dist-packages/keras/backend/tensorflow_backend.py:422: The name tf.global_variables is deprecated. Please use tf.compat.v1.global_variables instead.\n",
      "\n",
      "Train on 7982 samples, validate on 1000 samples\n",
      "Epoch 1/20\n",
      "7982/7982 [==============================] - 1s 111us/step - loss: 2.5278 - accuracy: 0.5319 - val_loss: 1.7401 - val_accuracy: 0.6410\n",
      "Epoch 2/20\n",
      "7982/7982 [==============================] - 1s 96us/step - loss: 1.4277 - accuracy: 0.6997 - val_loss: 1.3617 - val_accuracy: 0.7050\n",
      "Epoch 3/20\n",
      "7982/7982 [==============================] - 1s 90us/step - loss: 1.0759 - accuracy: 0.7642 - val_loss: 1.1619 - val_accuracy: 0.7470\n",
      "Epoch 4/20\n",
      "7982/7982 [==============================] - 1s 94us/step - loss: 0.8511 - accuracy: 0.8173 - val_loss: 1.0595 - val_accuracy: 0.7800\n",
      "Epoch 5/20\n",
      "7982/7982 [==============================] - 1s 89us/step - loss: 0.6807 - accuracy: 0.8549 - val_loss: 0.9781 - val_accuracy: 0.7990\n",
      "Epoch 6/20\n",
      "7982/7982 [==============================] - 1s 89us/step - loss: 0.5389 - accuracy: 0.8879 - val_loss: 0.9531 - val_accuracy: 0.8010\n",
      "Epoch 7/20\n",
      "7982/7982 [==============================] - 1s 90us/step - loss: 0.4326 - accuracy: 0.9080 - val_loss: 0.8928 - val_accuracy: 0.8200\n",
      "Epoch 8/20\n",
      "7982/7982 [==============================] - 1s 96us/step - loss: 0.3481 - accuracy: 0.9267 - val_loss: 0.8841 - val_accuracy: 0.8190\n",
      "Epoch 9/20\n",
      "7982/7982 [==============================] - 1s 89us/step - loss: 0.2845 - accuracy: 0.9379 - val_loss: 0.9091 - val_accuracy: 0.8240\n",
      "Epoch 10/20\n",
      "7982/7982 [==============================] - 1s 90us/step - loss: 0.2382 - accuracy: 0.9449 - val_loss: 0.9122 - val_accuracy: 0.8000\n",
      "Epoch 11/20\n",
      "7982/7982 [==============================] - 1s 90us/step - loss: 0.2034 - accuracy: 0.9486 - val_loss: 0.9072 - val_accuracy: 0.8170\n",
      "Epoch 12/20\n",
      "7982/7982 [==============================] - 1s 89us/step - loss: 0.1795 - accuracy: 0.9528 - val_loss: 0.9230 - val_accuracy: 0.8150\n",
      "Epoch 13/20\n",
      "7982/7982 [==============================] - 1s 88us/step - loss: 0.1622 - accuracy: 0.9563 - val_loss: 0.9188 - val_accuracy: 0.8180\n",
      "Epoch 14/20\n",
      "7982/7982 [==============================] - 1s 96us/step - loss: 0.1497 - accuracy: 0.9558 - val_loss: 1.0058 - val_accuracy: 0.8050\n",
      "Epoch 15/20\n",
      "7982/7982 [==============================] - 1s 97us/step - loss: 0.1378 - accuracy: 0.9546 - val_loss: 0.9715 - val_accuracy: 0.8070\n",
      "Epoch 16/20\n",
      "7982/7982 [==============================] - 1s 90us/step - loss: 0.1286 - accuracy: 0.9578 - val_loss: 1.0416 - val_accuracy: 0.7990\n",
      "Epoch 17/20\n",
      "7982/7982 [==============================] - 1s 92us/step - loss: 0.1215 - accuracy: 0.9555 - val_loss: 1.0356 - val_accuracy: 0.8010\n",
      "Epoch 18/20\n",
      "7982/7982 [==============================] - 1s 90us/step - loss: 0.1205 - accuracy: 0.9569 - val_loss: 0.9864 - val_accuracy: 0.8160\n",
      "Epoch 19/20\n",
      "7982/7982 [==============================] - 1s 88us/step - loss: 0.1148 - accuracy: 0.9574 - val_loss: 1.0158 - val_accuracy: 0.8090\n",
      "Epoch 20/20\n",
      "7982/7982 [==============================] - 1s 89us/step - loss: 0.1100 - accuracy: 0.9588 - val_loss: 1.0450 - val_accuracy: 0.8020\n"
     ]
    }
   ],
   "source": [
    "history = model.fit(partial_x_train,\n",
    "                    partial_y_train,\n",
    "                    epochs=20,\n",
    "                    batch_size=512,\n",
    "                    validation_data=(x_val, y_val))"
   ]
  },
  {
   "cell_type": "markdown",
   "metadata": {},
   "source": [
    "Формирование графика потерь на этапах обучения и проверки"
   ]
  },
  {
   "cell_type": "code",
   "execution_count": 31,
   "metadata": {},
   "outputs": [
    {
     "data": {
      "image/png": "[encoded data removed]",
      "text/plain": [
       "<Figure size 432x288 with 1 Axes>"
      ]
     },
     "metadata": {},
     "output_type": "display_data"
    }
   ],
   "source": [
    "import matplotlib.pyplot as plt\n",
    "\n",
    "loss = history.history['loss']\n",
    "val_loss = history.history['val_loss']\n",
    "\n",
    "epochs = range(1, len(loss) + 1)\n",
    "\n",
    "plt.plot(epochs, loss, 'bo', label='Training loss')\n",
    "plt.plot(epochs, val_loss, 'b', label='Validation loss')\n",
    "plt.title('Training and validation loss')\n",
    "plt.xlabel('Epochs')\n",
    "plt.ylabel('Loss')\n",
    "plt.legend()\n",
    "\n",
    "plt.show()"
   ]
  },
  {
   "cell_type": "markdown",
   "metadata": {},
   "source": [
    "Формирование графика точности на этапах обучения и проверки"
   ]
  },
  {
   "cell_type": "code",
   "execution_count": 35,
   "metadata": {},
   "outputs": [
    {
     "data": {
      "image/png": "[encoded data removed]",
      "text/plain": [
       "<Figure size 432x288 with 1 Axes>"
      ]
     },
     "metadata": {},
     "output_type": "display_data"
    }
   ],
   "source": [
    "plt.clf()\n",
    "\n",
    "acc = history.history['accuracy']\n",
    "val_acc = history.history['val_accuracy']\n",
    "\n",
    "plt.plot(epochs, acc, 'bo', label='Training acc')\n",
    "plt.plot(epochs, val_acc, 'b', label='Validation acc')\n",
    "plt.title('Training and validation accuracy')\n",
    "plt.xlabel('Epochs')\n",
    "plt.ylabel('Loss')\n",
    "plt.legend()\n",
    "\n",
    "plt.show()\n"
   ]
  },
  {
   "cell_type": "markdown",
   "metadata": {},
   "source": [
    "Переобучение сети происходит на 9 эпохе, поэтому обучаем новую сеть до 9 эпохи и проверяем результат на тестовых данных."
   ]
  },
  {
   "cell_type": "code",
   "execution_count": 19,
   "metadata": {},
   "outputs": [
    {
     "name": "stdout",
     "output_type": "stream",
     "text": [
      "Train on 7982 samples, validate on 1000 samples\n",
      "Epoch 1/9\n",
      "7982/7982 [==============================] - 1s 104us/step - loss: 2.7495 - accuracy: 0.4974 - val_loss: 1.8737 - val_accuracy: 0.6250\n",
      "Epoch 2/9\n",
      "7982/7982 [==============================] - 1s 90us/step - loss: 1.5351 - accuracy: 0.6845 - val_loss: 1.3586 - val_accuracy: 0.7110\n",
      "Epoch 3/9\n",
      "7982/7982 [==============================] - 1s 85us/step - loss: 1.1189 - accuracy: 0.7756 - val_loss: 1.1568 - val_accuracy: 0.7580\n",
      "Epoch 4/9\n",
      "7982/7982 [==============================] - 1s 88us/step - loss: 0.8809 - accuracy: 0.8168 - val_loss: 1.0482 - val_accuracy: 0.7790\n",
      "Epoch 5/9\n",
      "7982/7982 [==============================] - 1s 86us/step - loss: 0.7074 - accuracy: 0.8510 - val_loss: 0.9680 - val_accuracy: 0.7980\n",
      "Epoch 6/9\n",
      "7982/7982 [==============================] - 1s 87us/step - loss: 0.5720 - accuracy: 0.8812 - val_loss: 0.9221 - val_accuracy: 0.8130\n",
      "Epoch 7/9\n",
      "7982/7982 [==============================] - 1s 89us/step - loss: 0.4650 - accuracy: 0.9013 - val_loss: 0.8895 - val_accuracy: 0.8210\n",
      "Epoch 8/9\n",
      "7982/7982 [==============================] - 1s 86us/step - loss: 0.3758 - accuracy: 0.9189 - val_loss: 0.8840 - val_accuracy: 0.8150\n",
      "Epoch 9/9\n",
      "7982/7982 [==============================] - 1s 88us/step - loss: 0.3127 - accuracy: 0.9331 - val_loss: 0.9132 - val_accuracy: 0.8120\n",
      "2246/2246 [==============================] - 0s 95us/step\n"
     ]
    }
   ],
   "source": [
    "model = models.Sequential()\n",
    "model.add(layers.Dense(64, activation='relu', input_shape=(10000,)))\n",
    "model.add(layers.Dense(64, activation='relu'))\n",
    "model.add(layers.Dense(46, activation='softmax'))\n",
    "\n",
    "model.compile(optimizer='rmsprop',\n",
    "              loss='categorical_crossentropy',\n",
    "              metrics=['accuracy'])\n",
    "model.fit(partial_x_train,\n",
    "          partial_y_train,\n",
    "          epochs=9,\n",
    "          batch_size=512,\n",
    "          validation_data=(x_val, y_val))\n",
    "results = model.evaluate(x_test, one_hot_test_labels)"
   ]
  },
  {
   "cell_type": "markdown",
   "metadata": {},
   "source": [
    "Финальные результаты"
   ]
  },
  {
   "cell_type": "code",
   "execution_count": 22,
   "metadata": {},
   "outputs": [
    {
     "data": {
      "text/plain": [
       "[0.9937047073061935, 0.7849510312080383]"
      ]
     },
     "execution_count": 22,
     "metadata": {},
     "output_type": "execute_result"
    }
   ],
   "source": [
    "results"
   ]
  },
  {
   "cell_type": "code",
   "execution_count": 23,
   "metadata": {},
   "outputs": [
    {
     "data": {
      "text/plain": [
       "0.18699910952804988"
      ]
     },
     "execution_count": 23,
     "metadata": {},
     "output_type": "execute_result"
    }
   ],
   "source": [
    "import copy\n",
    "test_labels_copy = copy.copy(test_labels)\n",
    "np.random.shuffle(test_labels_copy)\n",
    "hits_array = np.array(test_labels) == np.array(test_labels_copy)\n",
    "float(np.sum(hits_array)) / len(test_labels)"
   ]
  },
  {
   "cell_type": "markdown",
   "metadata": {},
   "source": [
    "<b>Предсказания на новых данных</b>"
   ]
  },
  {
   "cell_type": "code",
   "execution_count": 24,
   "metadata": {},
   "outputs": [],
   "source": [
    "predictions = model.predict(x_test)"
   ]
  },
  {
   "cell_type": "code",
   "execution_count": 25,
   "metadata": {},
   "outputs": [
    {
     "data": {
      "text/plain": [
       "(46,)"
      ]
     },
     "execution_count": 25,
     "metadata": {},
     "output_type": "execute_result"
    }
   ],
   "source": [
    "predictions[0].shape"
   ]
  },
  {
   "cell_type": "code",
   "execution_count": 26,
   "metadata": {},
   "outputs": [
    {
     "data": {
      "text/plain": [
       "0.9999999"
      ]
     },
     "execution_count": 26,
     "metadata": {},
     "output_type": "execute_result"
    }
   ],
   "source": [
    "np.sum(predictions[0])"
   ]
  },
  {
   "cell_type": "markdown",
   "metadata": {},
   "source": [
    "Элемент с наибольшей вероятностью"
   ]
  },
  {
   "cell_type": "code",
   "execution_count": 27,
   "metadata": {},
   "outputs": [
    {
     "data": {
      "text/plain": [
       "3"
      ]
     },
     "execution_count": 27,
     "metadata": {},
     "output_type": "execute_result"
    }
   ],
   "source": [
    "np.argmax(predictions[0])"
   ]
  },
  {
   "cell_type": "code",
   "execution_count": null,
   "metadata": {},
   "outputs": [],
   "source": []
  }
 ],
 "metadata": {
  "kernelspec": {
   "display_name": "Python 3",
   "language": "python",
   "name": "python3"
  },
  "language_info": {
   "codemirror_mode": {
    "name": "ipython",
    "version": 3
   },
   "file_extension": ".py",
   "mimetype": "text/x-python",
   "name": "python",
   "nbconvert_exporter": "python",
   "pygments_lexer": "ipython3",
   "version": "3.7.2"
  }
 },
 "nbformat": 4,
 "nbformat_minor": 2
}
